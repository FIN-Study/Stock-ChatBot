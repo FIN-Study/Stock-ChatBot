{
  "nbformat": 4,
  "nbformat_minor": 0,
  "metadata": {
    "colab": {
      "name": "stock_keyword.ipynb",
      "private_outputs": true,
      "provenance": [],
      "collapsed_sections": []
    },
    "kernelspec": {
      "name": "python3",
      "display_name": "Python 3"
    },
    "language_info": {
      "name": "python"
    }
  },
  "cells": [
    {
      "cell_type": "code",
      "metadata": {
        "id": "JfwvA2A-4ePK"
      },
      "source": [
        "!pip install pymysql"
      ],
      "execution_count": null,
      "outputs": []
    },
    {
      "cell_type": "code",
      "metadata": {
        "id": "3doH2RC-4Lq9"
      },
      "source": [
        "import pandas as pd\n",
        "import numpy as np\n",
        "import pymysql\n",
        "\n",
        "# mysql 연결 코드 삽입\n"
      ],
      "execution_count": null,
      "outputs": []
    },
    {
      "cell_type": "code",
      "metadata": {
        "id": "-PetcN3PItqu"
      },
      "source": [
        "# 파일 로드\n",
        "!curl -c ./cookie -s -L \"https://drive.google.com/uc?export=download&id=1eLMWxjK6ADHMRO3aEmJUStDWa7P4H8Zj\" > /dev/null\n",
        "!curl -Lb ./cookie \"https://drive.google.com/uc?export=download&confirm=`awk '/download/ {print $NF}' ./cookie`&id=1eLMWxjK6ADHMRO3aEmJUStDWa7P4H8Zj\" -o daily_naver_news.csv"
      ],
      "execution_count": null,
      "outputs": []
    },
    {
      "cell_type": "code",
      "metadata": {
        "id": "RIu2A-aOI5tU"
      },
      "source": [
        "import pandas as pd\n",
        "df = pd.read_csv('daily_naver_news.csv')\n",
        "df"
      ],
      "execution_count": null,
      "outputs": []
    },
    {
      "cell_type": "code",
      "metadata": {
        "id": "Tf1Egjh5JATK"
      },
      "source": [
        "#형태소 분석기 Mecab 설치\n",
        "!git clone https://github.com/SOMJANG/Mecab-ko-for-Google-Colab.git\n",
        "%cd Mecab-ko-for-Google-Colab\n",
        "!bash install_mecab-ko_on_colab190912.sh"
      ],
      "execution_count": null,
      "outputs": []
    },
    {
      "cell_type": "code",
      "metadata": {
        "id": "sjaxPSJuJPca"
      },
      "source": [
        "from konlpy.tag import Mecab"
      ],
      "execution_count": null,
      "outputs": []
    },
    {
      "cell_type": "code",
      "metadata": {
        "id": "n83xdBBQJSlB"
      },
      "source": [
        "tokenizer = Mecab()\n",
        "\n",
        "# 정규 표현식을 통해서 한국어 제외 문자들을 제거\n",
        "df['content'] = df['content'].str.replace(\"[^ㄱ-ㅎㅏ-ㅣ가-힣 ]\",\"\")"
      ],
      "execution_count": null,
      "outputs": []
    },
    {
      "cell_type": "code",
      "metadata": {
        "id": "Pt3QtJ9HQGQ9"
      },
      "source": [
        "df"
      ],
      "execution_count": null,
      "outputs": []
    },
    {
      "cell_type": "code",
      "metadata": {
        "id": "jgF2g5WqQJfz"
      },
      "source": [
        "news_data = df.content"
      ],
      "execution_count": null,
      "outputs": []
    },
    {
      "cell_type": "code",
      "metadata": {
        "id": "WOXaTnSMQTWC"
      },
      "source": [
        "# 결측값 삭제\n",
        "news_data.dropna(inplace=True)"
      ],
      "execution_count": null,
      "outputs": []
    },
    {
      "cell_type": "code",
      "metadata": {
        "id": "dwqde9WTQNHd"
      },
      "source": [
        "# 다소 시간 소요\n",
        "result = news_data.apply(tokenizer.morphs)"
      ],
      "execution_count": null,
      "outputs": []
    },
    {
      "cell_type": "code",
      "metadata": {
        "id": "RE0Cn87n2Mbr"
      },
      "source": [
        "idx = result.index\n",
        "for i in idx:\n",
        "  result[i].insert(0,i)\n",
        "print(result)"
      ],
      "execution_count": null,
      "outputs": []
    },
    {
      "cell_type": "code",
      "metadata": {
        "id": "YSZ-wRqeR_jp"
      },
      "source": [
        "from gensim.models import Word2Vec\n",
        "model = Word2Vec(result, size=100, window=5, min_count=5, workers=4, sg=0)"
      ],
      "execution_count": null,
      "outputs": []
    },
    {
      "cell_type": "code",
      "metadata": {
        "id": "8YXvXN6T96gK"
      },
      "source": [
        "#모델 저장\n",
        "model.save('word2vec.model')"
      ],
      "execution_count": null,
      "outputs": []
    },
    {
      "cell_type": "code",
      "metadata": {
        "id": "bfAg_QzqgHX-"
      },
      "source": [
        "from gensim.models import Word2Vec\n",
        "model_test = Word2Vec.load('word2vec.model')"
      ],
      "execution_count": null,
      "outputs": []
    },
    {
      "cell_type": "code",
      "metadata": {
        "id": "6VcnbJRN4rpN"
      },
      "source": [
        "keyword_list = ['반도체', '인공지능','프랜차이즈','항공우주','클라우드','블록체인','리테일','패션','언택트','자율주행','뷰티','게임','방탄소년단']"
      ],
      "execution_count": null,
      "outputs": []
    },
    {
      "cell_type": "code",
      "metadata": {
        "id": "3_VJB1YOq5Rh"
      },
      "source": [
        "cursor = conn.cursor(pymysql.cursors.DictCursor)\n",
        "\n",
        "# 테이블 확인\n",
        "# sql_input = \"SELECT * FROM `theme_stock`;\"\n",
        "# df_this_data = pd.read_sql_query(sql_input, conn)\n",
        "# print(df_this_data)\n",
        "\n",
        "# 값 삭제\n",
        "sql_input = \"DELETE FROM `theme_stock` WHERE `id` in (1,2,3,4,5,6,7,8,9,10,11,12,13);\"\n",
        "cursor.execute(sql_input)\n",
        "conn.commit()"
      ],
      "execution_count": null,
      "outputs": []
    },
    {
      "cell_type": "code",
      "metadata": {
        "id": "HCnhVsRE5gfP"
      },
      "source": [
        "for i, keyword in enumerate(keyword_list):\n",
        "  df2 = df[df['content'].str.contains(keyword, na=False)]\n",
        "  # 방법 2 : 입력받은 키워드와 관련된 단어가 있는 행의 종목들 뽑아냄\n",
        "  if df2.empty or len(df2.index) < 5:\n",
        "    model_result = model_test.wv.most_similar(keyword)\n",
        "    model_data = []\n",
        "    for j in range(5):\n",
        "      model_data.append(model_result[j][0])\n",
        "    print(model_data)\n",
        "    df_rel = df[df['content'].str.contains(model_data[0], na=False)]\n",
        "    tmp_rel = df_rel.name.value_counts()\n",
        "    #print(tmp_rel)\n",
        "    keyword_stock_rel = tmp_rel.index[:5]\n",
        "    print(keyword_stock_rel)\n",
        "    rel_stock = \"\"\n",
        "    rel_stock = ','.join(keyword_stock_rel)\n",
        "    sql = \"INSERT INTO `theme_stock` (`id`,`keyword_name`,`related_items`) VALUES (%s, %s, %s)\"\n",
        "    val = (i+1, keyword,rel_stock)\n",
        "    cursor.execute(sql, val)\n",
        "\n",
        " # 방법1 : content에 '키워드'가 있는 행만 뽑아내기\n",
        "  else:\n",
        "    tmp = df2.name.value_counts()\n",
        "    #print(tmp)\n",
        "    keyword_stock = tmp.index[:5]\n",
        "    #print(keyword_stock)\n",
        "    rel_stock = \"\"\n",
        "    rel_stock = ','.join(keyword_stock)\n",
        "    print(rel_stock)\n",
        "    sql = \"INSERT INTO `theme_stock` (`id`,`keyword_name`,`related_items`) VALUES (%s, %s, %s)\"\n",
        "    val = (i+1, keyword, rel_stock)\n",
        "    cursor.execute(sql, val)\n",
        "    conn.commit()"
      ],
      "execution_count": null,
      "outputs": []
    }
  ]
}